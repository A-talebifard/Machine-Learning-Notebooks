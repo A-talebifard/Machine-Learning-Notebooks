{
 "cells": [
  {
   "cell_type": "markdown",
   "metadata": {},
   "source": [
    "# Naive Bayes\n",
    "\n",
    "Naive Bayes uses Bayes Theorem to find out the best hypothesis given data. Bayes Theorem states:\n",
    "$$P\\left(X \\ | \\ Y\\right)=\\frac{P\\left(Y \\ | \\ X\\right)\\cdot P\\left(X\\right)}{P\\left(Y\\right)}$$\n",
    "\n",
    "Where,\n",
    "\n",
    "1. P(X|Y) is the posterior probability\n",
    "2. P(Y|X) is the probability assuming that the hypothesis were true. \n",
    "3. P(X) is the prior probability which is irrespective of data. \n",
    "4. P(Y) is probability of the data, irrespective of hypothesis. \n",
    "\n",
    "Once we have these probabilities, in the end we choose the hypothesis with the maximum probability. This is also called as __Maximum A Posteriori (MAP) Estimation__"
   ]
  },
  {
   "cell_type": "code",
   "execution_count": null,
   "metadata": {},
   "outputs": [],
   "source": []
  }
 ],
 "metadata": {
  "kernelspec": {
   "display_name": "Python 3",
   "language": "python",
   "name": "python3"
  },
  "language_info": {
   "codemirror_mode": {
    "name": "ipython",
    "version": 3
   },
   "file_extension": ".py",
   "mimetype": "text/x-python",
   "name": "python",
   "nbconvert_exporter": "python",
   "pygments_lexer": "ipython3",
   "version": "3.6.5"
  }
 },
 "nbformat": 4,
 "nbformat_minor": 2
}
