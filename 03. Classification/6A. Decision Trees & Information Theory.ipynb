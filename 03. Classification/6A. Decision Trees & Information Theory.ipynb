{
 "cells": [
  {
   "cell_type": "markdown",
   "metadata": {},
   "source": [
    "## Decision Trees\n",
    "\n",
    "Decision trees are basically just nested if statements. The conditions in this if statements are what are learned by techniques that are rooted in Information Theory. \n",
    "\n",
    "\n",
    "### Information Theory\n",
    "We measure weight by kilos, and water by litres, but how to measure information? The answer is Information Entropy. For instance, a page of a random book has more Entropy than the book itself because there's a lot of randomness in the page. On the other hand all the information is present in the book so it's obvious (less random = less Entropy)  \n",
    "\n",
    "\n",
    "Entropy is used to choose the best splits in the DT. Our motive is to choose a split that maximizes the reduction in uncertainity. Eg: going from 50% certain to 100% certain is better than going from 50% to 75%. It is also related to variance. More variance = more uncertainity = more entropy. However, there's a subtle difference when both are used in multimodal distributions. In that, variance depends on where the peaks are, but entropy doesn't care. \n",
    "\n",
    "$$H(p) = \\mathbb{E}(-log_2(p))$$\n",
    "\n",
    "Also, denoted by\n",
    "\n",
    "$$H(p) = -\\sum p*log(p)$$"
   ]
  },
  {
   "cell_type": "markdown",
   "metadata": {},
   "source": [
    "## Maximizing Information Gain\n",
    "\n",
    "One of the algorithms that is used to create the decision tree is called ID3. It will recursively divide the tree into 2 by selecting the feature that will maximise the IG. For instance, if we have 2 features, it will split by both and check which of the features gave more IG. \n",
    "\n",
    "### Regularizing \n",
    "We can easily get 100% training accuracy by creating a decision tree of arbitrary length. We can avoid this by setting a max_depth parameter. \n",
    "\n",
    "### Algorithm for splitting\n",
    "\n",
    "1. Sort X's for current column in order, sort Y in the same way\n",
    "2. Find all boundary points where Y changes from one value to another\n",
    "3. Calculate IG when splitting at each boundary\n",
    "4. Keep the split which gives max IG"
   ]
  },
  {
   "cell_type": "code",
   "execution_count": null,
   "metadata": {},
   "outputs": [],
   "source": []
  }
 ],
 "metadata": {
  "kernelspec": {
   "display_name": "Python 3",
   "language": "python",
   "name": "python3"
  },
  "language_info": {
   "codemirror_mode": {
    "name": "ipython",
    "version": 3
   },
   "file_extension": ".py",
   "mimetype": "text/x-python",
   "name": "python",
   "nbconvert_exporter": "python",
   "pygments_lexer": "ipython3",
   "version": "3.6.5"
  }
 },
 "nbformat": 4,
 "nbformat_minor": 2
}
